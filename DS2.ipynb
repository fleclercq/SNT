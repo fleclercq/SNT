{
 "cells": [
  {
   "cell_type": "markdown",
   "metadata": {},
   "source": [
    "# Devoir surveillé n° 2\n",
    "\n",
    "## Exercice 1"
   ]
  },
  {
   "cell_type": "code",
   "execution_count": null,
   "metadata": {},
   "outputs": [],
   "source": [
    "age = int(input(\"Donner votre âge :\"))\n",
    "taille = float(input(\"Donner votre taille\"))\n",
    "if taille < 1.30\n",
    "entree = age * 0.5\n",
    "else\n",
    "entree = age * 1.1\n",
    "print(\"à payer :\",entree)"
   ]
  },
  {
   "cell_type": "markdown",
   "metadata": {},
   "source": [
    "## Exercice 2"
   ]
  },
  {
   "cell_type": "code",
   "execution_count": null,
   "metadata": {},
   "outputs": [],
   "source": [
    "duree = int(input(\"Quelle durée voulez-vous ?\"))\n",
    "\n",
    "for ... in range(...)\n",
    "    print(\"il reste\",...,\" secondes\")\n",
    "print(\"Fin\")"
   ]
  },
  {
   "cell_type": "markdown",
   "metadata": {},
   "source": [
    "## Exercice 3"
   ]
  },
  {
   "cell_type": "code",
   "execution_count": null,
   "metadata": {},
   "outputs": [],
   "source": [
    "profondeur = 1\n",
    "prix = 0\n",
    "total = 100\n",
    "while total <= 700:\n",
    "    prix = prix + 20\n",
    "    total = total + prix\n",
    "    ...\n",
    "print(\"pas plus de \", profondeur-1, \" mètres.\")"
   ]
  }
 ],
 "metadata": {
  "kernelspec": {
   "display_name": "Python 3",
   "language": "python",
   "name": "python3"
  },
  "language_info": {
   "codemirror_mode": {
    "name": "ipython",
    "version": 3
   },
   "file_extension": ".py",
   "mimetype": "text/x-python",
   "name": "python",
   "nbconvert_exporter": "python",
   "pygments_lexer": "ipython3",
   "version": "3.7.1"
  }
 },
 "nbformat": 4,
 "nbformat_minor": 2
}
