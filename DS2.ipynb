{
 "cells": [
  {
   "cell_type": "markdown",
   "metadata": {},
   "source": [
    "# Devoir surveillé n° 2\n",
    "\n",
    "## Exercice 1"
   ]
  },
  {
   "cell_type": "code",
   "execution_count": null,
   "metadata": {},
   "outputs": [],
   "source": [
    "age = int(input(\"Donner votre âge :\"))\n",
    "taille = float(input(\"Donner votre taille\"))\n",
    "if taille < 1.30\n",
    "entree = age * 0.5\n",
    "else\n",
    "entree = age * 1.1\n",
    "print(\"à payer :\",entree)"
   ]
  },
  {
   "cell_type": "markdown",
   "metadata": {},
   "source": [
    "## Exercice 2"
   ]
  },
  {
   "cell_type": "code",
   "execution_count": null,
   "metadata": {},
   "outputs": [],
   "source": [
    "duree = int(input(\"Quelle durée voulez-vous ?\"))\n",
    "\n",
    "for ... in range(...)\n",
    "    print(\"il reste\",...,\" secondes\")\n",
    "print(\"Fin\")"
   ]
  },
  {
   "cell_type": "markdown",
   "metadata": {},
   "source": [
    "## Exercice 3"
   ]
  },
  {
   "cell_type": "code",
   "execution_count": null,
   "metadata": {},
   "outputs": [],
   "source": [
    "profondeur = 1\n",
    "prix = 100\n",
    "total = prix\n",
    "while prix <= 700:\n",
    "    prixmètre = prixmètre + 20\n",
    "    total = total + prixmètre\n",
    "    ...\n",
    "print(\"pas plus de \", profondeur, \" mètres.\")"
   ]
  }
 ],
 "metadata": {
  "kernelspec": {
   "display_name": "Python 3",
   "language": "python",
   "name": "python3"
  },
  "language_info": {
   "codemirror_mode": {
    "name": "ipython",
    "version": 3
   },
   "file_extension": ".py",
   "mimetype": "text/x-python",
   "name": "python",
   "nbconvert_exporter": "python",
   "pygments_lexer": "ipython3",
   "version": "3.7.1"
  }
 },
 "nbformat": 4,
 "nbformat_minor": 2
}
